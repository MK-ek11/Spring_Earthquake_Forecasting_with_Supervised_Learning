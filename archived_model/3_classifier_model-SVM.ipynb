{
 "cells": [
  {
   "cell_type": "code",
   "execution_count": 1,
   "id": "solid-collection",
   "metadata": {},
   "outputs": [],
   "source": [
    "from datetime import datetime\n",
    "import pandas as pd\n",
    "pd.set_option('display.max_columns', None)\n",
    "\n",
    "import sklearn\n",
    "from sklearn.model_selection import cross_val_score\n",
    "from sklearn.model_selection import train_test_split\n",
    "\n",
    "from sklearn.model_selection import GridSearchCV\n",
    "from sklearn.metrics import confusion_matrix, ConfusionMatrixDisplay\n",
    "import matplotlib.pyplot as plt\n",
    "\n",
    "from sklearn.metrics import classification_report\n",
    "from sklearn.metrics import accuracy_score\n",
    "from sklearn.pipeline import make_pipeline\n",
    "from sklearn import svm\n",
    "from sklearn.preprocessing import StandardScaler\n",
    "from sklearn.svm import SVC"
   ]
  },
  {
   "cell_type": "markdown",
   "id": "professional-knock",
   "metadata": {},
   "source": [
    "# Fill in Parameters here"
   ]
  },
  {
   "cell_type": "code",
   "execution_count": 2,
   "id": "ignored-programmer",
   "metadata": {},
   "outputs": [],
   "source": [
    "tuned_parameters = [{'C': [0.1,0.3,0.5,0.7],\n",
    "                     \"kernel\" : ['rbf'],\n",
    "                     \"gamma\":[1,3,5,9,11]}]\n",
    "scoring_parameter = \"accuracy\"\n",
    "city1 = \"Osaka\"\n",
    "city2 = \"Tokyo\""
   ]
  },
  {
   "cell_type": "markdown",
   "id": "english-speech",
   "metadata": {},
   "source": [
    "# Data Processing"
   ]
  },
  {
   "cell_type": "code",
   "execution_count": 3,
   "id": "removed-location",
   "metadata": {},
   "outputs": [
    {
     "data": {
      "text/html": [
       "<div>\n",
       "<style scoped>\n",
       "    .dataframe tbody tr th:only-of-type {\n",
       "        vertical-align: middle;\n",
       "    }\n",
       "\n",
       "    .dataframe tbody tr th {\n",
       "        vertical-align: top;\n",
       "    }\n",
       "\n",
       "    .dataframe thead th {\n",
       "        text-align: right;\n",
       "    }\n",
       "</style>\n",
       "<table border=\"1\" class=\"dataframe\">\n",
       "  <thead>\n",
       "    <tr style=\"text-align: right;\">\n",
       "      <th></th>\n",
       "      <th>time</th>\n",
       "      <th>latitude</th>\n",
       "      <th>longitude</th>\n",
       "      <th>depth</th>\n",
       "      <th>mag</th>\n",
       "      <th>Nearest City</th>\n",
       "      <th>Distance</th>\n",
       "      <th>label</th>\n",
       "    </tr>\n",
       "  </thead>\n",
       "  <tbody>\n",
       "    <tr>\n",
       "      <th>0</th>\n",
       "      <td>2022-04-18</td>\n",
       "      <td>36.9462</td>\n",
       "      <td>140.3737</td>\n",
       "      <td>94.06</td>\n",
       "      <td>5.3</td>\n",
       "      <td>Tokyo</td>\n",
       "      <td>152.519581</td>\n",
       "      <td>True</td>\n",
       "    </tr>\n",
       "    <tr>\n",
       "      <th>1</th>\n",
       "      <td>2022-04-18</td>\n",
       "      <td>29.7594</td>\n",
       "      <td>142.1689</td>\n",
       "      <td>10.00</td>\n",
       "      <td>4.9</td>\n",
       "      <td>&gt;200 KM of Nearest City</td>\n",
       "      <td>698.847508</td>\n",
       "      <td>True</td>\n",
       "    </tr>\n",
       "    <tr>\n",
       "      <th>2</th>\n",
       "      <td>2022-04-17</td>\n",
       "      <td>37.7504</td>\n",
       "      <td>141.7200</td>\n",
       "      <td>55.40</td>\n",
       "      <td>4.5</td>\n",
       "      <td>Sendai</td>\n",
       "      <td>94.259210</td>\n",
       "      <td>False</td>\n",
       "    </tr>\n",
       "    <tr>\n",
       "      <th>3</th>\n",
       "      <td>2022-04-17</td>\n",
       "      <td>31.1878</td>\n",
       "      <td>142.4014</td>\n",
       "      <td>10.00</td>\n",
       "      <td>4.5</td>\n",
       "      <td>&gt;200 KM of Nearest City</td>\n",
       "      <td>560.090362</td>\n",
       "      <td>False</td>\n",
       "    </tr>\n",
       "    <tr>\n",
       "      <th>4</th>\n",
       "      <td>2022-04-17</td>\n",
       "      <td>37.0863</td>\n",
       "      <td>142.1903</td>\n",
       "      <td>30.46</td>\n",
       "      <td>4.4</td>\n",
       "      <td>Sendai</td>\n",
       "      <td>175.485563</td>\n",
       "      <td>False</td>\n",
       "    </tr>\n",
       "  </tbody>\n",
       "</table>\n",
       "</div>"
      ],
      "text/plain": [
       "         time  latitude  longitude  depth  mag             Nearest City  \\\n",
       "0  2022-04-18   36.9462   140.3737  94.06  5.3                    Tokyo   \n",
       "1  2022-04-18   29.7594   142.1689  10.00  4.9  >200 KM of Nearest City   \n",
       "2  2022-04-17   37.7504   141.7200  55.40  4.5                   Sendai   \n",
       "3  2022-04-17   31.1878   142.4014  10.00  4.5  >200 KM of Nearest City   \n",
       "4  2022-04-17   37.0863   142.1903  30.46  4.4                   Sendai   \n",
       "\n",
       "     Distance  label  \n",
       "0  152.519581   True  \n",
       "1  698.847508   True  \n",
       "2   94.259210  False  \n",
       "3  560.090362  False  \n",
       "4  175.485563  False  "
      ]
     },
     "execution_count": 3,
     "metadata": {},
     "output_type": "execute_result"
    }
   ],
   "source": [
    "### Extract \n",
    "data_df_extract = pd.read_csv(\"data_transformed.csv\")\n",
    "data_df_original = data_df_extract.copy()\n",
    "data_df_original.head()"
   ]
  },
  {
   "cell_type": "markdown",
   "id": "pleasant-separate",
   "metadata": {},
   "source": [
    "# SVM for Earthquakes close to City 1"
   ]
  },
  {
   "cell_type": "code",
   "execution_count": 4,
   "id": "awful-angle",
   "metadata": {},
   "outputs": [
    {
     "data": {
      "text/html": [
       "<div>\n",
       "<style scoped>\n",
       "    .dataframe tbody tr th:only-of-type {\n",
       "        vertical-align: middle;\n",
       "    }\n",
       "\n",
       "    .dataframe tbody tr th {\n",
       "        vertical-align: top;\n",
       "    }\n",
       "\n",
       "    .dataframe thead th {\n",
       "        text-align: right;\n",
       "    }\n",
       "</style>\n",
       "<table border=\"1\" class=\"dataframe\">\n",
       "  <thead>\n",
       "    <tr style=\"text-align: right;\">\n",
       "      <th></th>\n",
       "      <th>time</th>\n",
       "      <th>latitude</th>\n",
       "      <th>longitude</th>\n",
       "      <th>depth</th>\n",
       "      <th>mag</th>\n",
       "      <th>Nearest City</th>\n",
       "      <th>Distance</th>\n",
       "      <th>label</th>\n",
       "    </tr>\n",
       "  </thead>\n",
       "  <tbody>\n",
       "    <tr>\n",
       "      <th>0</th>\n",
       "      <td>2022-03-31</td>\n",
       "      <td>35.0658</td>\n",
       "      <td>135.5220</td>\n",
       "      <td>26.6</td>\n",
       "      <td>4.4</td>\n",
       "      <td>Osaka</td>\n",
       "      <td>41.425932</td>\n",
       "      <td>False</td>\n",
       "    </tr>\n",
       "    <tr>\n",
       "      <th>1</th>\n",
       "      <td>2022-03-11</td>\n",
       "      <td>34.8133</td>\n",
       "      <td>135.2084</td>\n",
       "      <td>10.0</td>\n",
       "      <td>4.3</td>\n",
       "      <td>Osaka</td>\n",
       "      <td>29.938712</td>\n",
       "      <td>False</td>\n",
       "    </tr>\n",
       "    <tr>\n",
       "      <th>2</th>\n",
       "      <td>2022-01-30</td>\n",
       "      <td>34.7475</td>\n",
       "      <td>135.9508</td>\n",
       "      <td>10.0</td>\n",
       "      <td>3.9</td>\n",
       "      <td>Osaka</td>\n",
       "      <td>41.458675</td>\n",
       "      <td>False</td>\n",
       "    </tr>\n",
       "  </tbody>\n",
       "</table>\n",
       "</div>"
      ],
      "text/plain": [
       "         time  latitude  longitude  depth  mag Nearest City   Distance  label\n",
       "0  2022-03-31   35.0658   135.5220   26.6  4.4        Osaka  41.425932  False\n",
       "1  2022-03-11   34.8133   135.2084   10.0  4.3        Osaka  29.938712  False\n",
       "2  2022-01-30   34.7475   135.9508   10.0  3.9        Osaka  41.458675  False"
      ]
     },
     "execution_count": 4,
     "metadata": {},
     "output_type": "execute_result"
    }
   ],
   "source": [
    "data_df = data_df_original.loc[data_df_original[\"Nearest City\"]==city1]\n",
    "data_df.reset_index(drop=True, inplace=True)\n",
    "data_df.head(3)"
   ]
  },
  {
   "cell_type": "code",
   "execution_count": 5,
   "id": "upset-cycling",
   "metadata": {},
   "outputs": [
    {
     "data": {
      "text/plain": [
       "4.5    35\n",
       "4.7    34\n",
       "4.6    31\n",
       "4.4    26\n",
       "4.2    24\n",
       "4.1    22\n",
       "4.8    19\n",
       "4.3    16\n",
       "3.9    15\n",
       "4.0    14\n",
       "3.6    13\n",
       "3.8    13\n",
       "4.9    13\n",
       "5.0     9\n",
       "5.1     9\n",
       "3.7     7\n",
       "5.5     7\n",
       "3.4     5\n",
       "5.7     4\n",
       "5.2     4\n",
       "6.3     4\n",
       "5.8     4\n",
       "3.5     4\n",
       "2.7     3\n",
       "3.2     3\n",
       "3.3     3\n",
       "2.9     3\n",
       "3.1     3\n",
       "6.7     2\n",
       "5.3     2\n",
       "5.4     2\n",
       "7.0     2\n",
       "5.9     2\n",
       "2.5     2\n",
       "6.1     1\n",
       "8.1     1\n",
       "6.5     1\n",
       "6.4     1\n",
       "3.0     1\n",
       "6.2     1\n",
       "6.6     1\n",
       "5.6     1\n",
       "7.2     1\n",
       "8.3     1\n",
       "6.9     1\n",
       "Name: mag, dtype: int64"
      ]
     },
     "execution_count": 5,
     "metadata": {},
     "output_type": "execute_result"
    }
   ],
   "source": [
    "data_df['mag'].value_counts()"
   ]
  },
  {
   "cell_type": "code",
   "execution_count": 6,
   "id": "pressing-respondent",
   "metadata": {},
   "outputs": [],
   "source": [
    "data_df = data_df.drop(columns = ['latitude', 'longitude','time',\"Nearest City\",\"mag\",\"Distance\"] )\n",
    "#data_df = pd.get_dummies(data_df, columns=[\"loc_cat\"])"
   ]
  },
  {
   "cell_type": "code",
   "execution_count": 7,
   "id": "sustainable-partnership",
   "metadata": {},
   "outputs": [
    {
     "data": {
      "text/plain": [
       "False    243\n",
       "True     127\n",
       "Name: label, dtype: int64"
      ]
     },
     "execution_count": 7,
     "metadata": {},
     "output_type": "execute_result"
    }
   ],
   "source": [
    "data_df['label'].value_counts()"
   ]
  },
  {
   "cell_type": "code",
   "execution_count": 8,
   "id": "about-moisture",
   "metadata": {},
   "outputs": [
    {
     "name": "stdout",
     "output_type": "stream",
     "text": [
      "259\n",
      "111\n"
     ]
    }
   ],
   "source": [
    "# Extract Training and Validation Dataset\n",
    "X = data_df.drop([\"label\"], axis=1)\n",
    "y = data_df[\"label\"]\n",
    "\n",
    "X_train, X_validation, y_train, y_validation = train_test_split(X, y, test_size=0.3,random_state=100)\n",
    "print(len(X_train))\n",
    "print(len(X_validation))"
   ]
  },
  {
   "cell_type": "code",
   "execution_count": 9,
   "id": "tender-talent",
   "metadata": {},
   "outputs": [
    {
     "name": "stdout",
     "output_type": "stream",
     "text": [
      "Fitting 5 folds for each of 20 candidates, totalling 100 fits\n"
     ]
    },
    {
     "data": {
      "text/plain": [
       "GridSearchCV(cv=5, estimator=SVC(random_state=100),\n",
       "             param_grid=[{'C': [0.1, 0.3, 0.5, 0.7], 'gamma': [1, 3, 5, 9, 11],\n",
       "                          'kernel': ['rbf']}],\n",
       "             scoring='accuracy', verbose=1)"
      ]
     },
     "execution_count": 9,
     "metadata": {},
     "output_type": "execute_result"
    }
   ],
   "source": [
    "clf_model_svm = GridSearchCV(SVC(random_state=100),\n",
    "                                      tuned_parameters,\n",
    "                                      cv=5,\n",
    "                                      scoring=scoring_parameter,\n",
    "                                      verbose=1)\n",
    "clf_model_svm.fit(X_train.values, y_train.values)"
   ]
  },
  {
   "cell_type": "code",
   "execution_count": 10,
   "id": "collaborative-consensus",
   "metadata": {},
   "outputs": [
    {
     "data": {
      "text/plain": [
       "SVC(C=0.7, gamma=3, random_state=100)"
      ]
     },
     "execution_count": 10,
     "metadata": {},
     "output_type": "execute_result"
    }
   ],
   "source": [
    "clf_model_svm.best_estimator_"
   ]
  },
  {
   "cell_type": "code",
   "execution_count": 11,
   "id": "threatened-printing",
   "metadata": {},
   "outputs": [
    {
     "data": {
      "text/plain": [
       "{'C': 0.7, 'gamma': 3, 'kernel': 'rbf'}"
      ]
     },
     "execution_count": 11,
     "metadata": {},
     "output_type": "execute_result"
    }
   ],
   "source": [
    "clf_model_svm.best_params_"
   ]
  },
  {
   "cell_type": "code",
   "execution_count": 12,
   "id": "enclosed-bench",
   "metadata": {},
   "outputs": [
    {
     "name": "stdout",
     "output_type": "stream",
     "text": [
      "validation accuracy: 0.7207207207207207\n"
     ]
    }
   ],
   "source": [
    "predict_y_validation = clf_model_svm.predict(X_validation.values)\n",
    "#predict_y_validation_prob = model.predict_proba(X_validation)\n",
    "accuracy_score_results = accuracy_score(y_validation.values, predict_y_validation)\n",
    "print(\"validation accuracy:\", accuracy_score_results)"
   ]
  },
  {
   "cell_type": "code",
   "execution_count": 13,
   "id": "norman-infection",
   "metadata": {},
   "outputs": [
    {
     "data": {
      "image/png": "[encoded data removed]",
      "text/plain": [
       "<Figure size 432x288 with 2 Axes>"
      ]
     },
     "metadata": {
      "needs_background": "light"
     },
     "output_type": "display_data"
    },
    {
     "name": "stdout",
     "output_type": "stream",
     "text": [
      "True Positive = 74\n",
      "False Positive = 23\n",
      "False Negative = 8\n",
      "True Negative = 6\n",
      "Recall = 90.0\n",
      "Precision = 76.0\n",
      "              precision    recall  f1-score   support\n",
      "\n",
      "       False       0.76      0.90      0.83        82\n",
      "        True       0.43      0.21      0.28        29\n",
      "\n",
      "    accuracy                           0.72       111\n",
      "   macro avg       0.60      0.55      0.55       111\n",
      "weighted avg       0.68      0.72      0.68       111\n",
      "\n"
     ]
    }
   ],
   "source": [
    "#########################################\n",
    "### Display Confusion Matrix\n",
    "ConfusionMatrixDisplay.from_predictions(y_validation.values, predict_y_validation, cmap='Blues')\n",
    "plt.title(\"\"\"Confusion Matrix for SVM: Accuracy {:.4}\"\"\".format(accuracy_score_results),color='black')\n",
    "plt.show()\n",
    "\n",
    "confusion_matrix_metric = confusion_matrix(y_validation.values, predict_y_validation)\n",
    "TP = confusion_matrix_metric[0][0]\n",
    "FP = confusion_matrix_metric[1][0]\n",
    "FN = confusion_matrix_metric[0][1]\n",
    "TN = confusion_matrix_metric[1][1]\n",
    "\n",
    "print('True Positive = {}'.format(TP))\n",
    "print('False Positive = {}'.format(FP))\n",
    "print('False Negative = {}'.format(FN))\n",
    "print('True Negative = {}'.format(TN))\n",
    "print('Recall = {}'.format(100*round(TP/(TP+FN),2)))\n",
    "print('Precision = {}'.format(100*round(TP/(TP+FP),2)))\n",
    "\n",
    "print(classification_report(y_validation.values, predict_y_validation))"
   ]
  },
  {
   "cell_type": "markdown",
   "id": "subsequent-israel",
   "metadata": {},
   "source": [
    "# SVM for Earthquakes close to City 2"
   ]
  },
  {
   "cell_type": "code",
   "execution_count": 14,
   "id": "alert-heather",
   "metadata": {},
   "outputs": [
    {
     "data": {
      "text/html": [
       "<div>\n",
       "<style scoped>\n",
       "    .dataframe tbody tr th:only-of-type {\n",
       "        vertical-align: middle;\n",
       "    }\n",
       "\n",
       "    .dataframe tbody tr th {\n",
       "        vertical-align: top;\n",
       "    }\n",
       "\n",
       "    .dataframe thead th {\n",
       "        text-align: right;\n",
       "    }\n",
       "</style>\n",
       "<table border=\"1\" class=\"dataframe\">\n",
       "  <thead>\n",
       "    <tr style=\"text-align: right;\">\n",
       "      <th></th>\n",
       "      <th>time</th>\n",
       "      <th>latitude</th>\n",
       "      <th>longitude</th>\n",
       "      <th>depth</th>\n",
       "      <th>mag</th>\n",
       "      <th>Nearest City</th>\n",
       "      <th>Distance</th>\n",
       "      <th>label</th>\n",
       "    </tr>\n",
       "  </thead>\n",
       "  <tbody>\n",
       "    <tr>\n",
       "      <th>0</th>\n",
       "      <td>2022-04-18</td>\n",
       "      <td>36.9462</td>\n",
       "      <td>140.3737</td>\n",
       "      <td>94.06</td>\n",
       "      <td>5.3</td>\n",
       "      <td>Tokyo</td>\n",
       "      <td>152.519581</td>\n",
       "      <td>True</td>\n",
       "    </tr>\n",
       "    <tr>\n",
       "      <th>1</th>\n",
       "      <td>2022-04-12</td>\n",
       "      <td>34.5523</td>\n",
       "      <td>140.4059</td>\n",
       "      <td>53.99</td>\n",
       "      <td>4.5</td>\n",
       "      <td>Tokyo</td>\n",
       "      <td>142.153831</td>\n",
       "      <td>False</td>\n",
       "    </tr>\n",
       "    <tr>\n",
       "      <th>2</th>\n",
       "      <td>2022-04-10</td>\n",
       "      <td>36.1869</td>\n",
       "      <td>141.5319</td>\n",
       "      <td>35.00</td>\n",
       "      <td>5.0</td>\n",
       "      <td>Tokyo</td>\n",
       "      <td>174.661026</td>\n",
       "      <td>True</td>\n",
       "    </tr>\n",
       "  </tbody>\n",
       "</table>\n",
       "</div>"
      ],
      "text/plain": [
       "         time  latitude  longitude  depth  mag Nearest City    Distance  label\n",
       "0  2022-04-18   36.9462   140.3737  94.06  5.3        Tokyo  152.519581   True\n",
       "1  2022-04-12   34.5523   140.4059  53.99  4.5        Tokyo  142.153831  False\n",
       "2  2022-04-10   36.1869   141.5319  35.00  5.0        Tokyo  174.661026   True"
      ]
     },
     "execution_count": 14,
     "metadata": {},
     "output_type": "execute_result"
    }
   ],
   "source": [
    "data_df = data_df_original.loc[data_df_original[\"Nearest City\"]==city2]\n",
    "data_df.reset_index(drop=True, inplace=True)\n",
    "data_df.head(3)"
   ]
  },
  {
   "cell_type": "code",
   "execution_count": 15,
   "id": "altered-wholesale",
   "metadata": {},
   "outputs": [
    {
     "data": {
      "text/plain": [
       "4.5    559\n",
       "4.6    518\n",
       "4.7    421\n",
       "4.8    330\n",
       "4.4    284\n",
       "4.3    249\n",
       "4.9    248\n",
       "4.2    217\n",
       "4.1    188\n",
       "5.0    171\n",
       "4.0    137\n",
       "5.1    124\n",
       "3.9    110\n",
       "5.2     98\n",
       "5.3     74\n",
       "3.8     69\n",
       "3.7     54\n",
       "5.4     52\n",
       "5.5     46\n",
       "5.6     46\n",
       "5.7     41\n",
       "3.6     39\n",
       "5.8     37\n",
       "5.9     25\n",
       "3.5     20\n",
       "6.0     17\n",
       "3.4     16\n",
       "6.1     14\n",
       "6.2     13\n",
       "3.3     13\n",
       "6.3     10\n",
       "3.2      9\n",
       "3.1      9\n",
       "6.5      6\n",
       "6.7      4\n",
       "6.4      3\n",
       "3.0      3\n",
       "6.6      3\n",
       "6.9      3\n",
       "7.7      2\n",
       "2.6      2\n",
       "2.8      2\n",
       "6.8      2\n",
       "7.2      1\n",
       "2.7      1\n",
       "7.5      1\n",
       "7.1      1\n",
       "8.1      1\n",
       "7.8      1\n",
       "7.0      1\n",
       "2.9      1\n",
       "7.9      1\n",
       "Name: mag, dtype: int64"
      ]
     },
     "execution_count": 15,
     "metadata": {},
     "output_type": "execute_result"
    }
   ],
   "source": [
    "data_df['mag'].value_counts()"
   ]
  },
  {
   "cell_type": "code",
   "execution_count": 16,
   "id": "perfect-argentina",
   "metadata": {},
   "outputs": [],
   "source": [
    "data_df = data_df.drop(columns = ['latitude', 'longitude','time',\"Nearest City\",\"mag\",\"Distance\"] )\n",
    "#data_df = pd.get_dummies(data_df, columns=[\"loc_cat\"])"
   ]
  },
  {
   "cell_type": "code",
   "execution_count": 17,
   "id": "thirty-kidney",
   "metadata": {},
   "outputs": [
    {
     "data": {
      "text/plain": [
       "False    2500\n",
       "True     1797\n",
       "Name: label, dtype: int64"
      ]
     },
     "execution_count": 17,
     "metadata": {},
     "output_type": "execute_result"
    }
   ],
   "source": [
    "data_df['label'].value_counts()"
   ]
  },
  {
   "cell_type": "code",
   "execution_count": 18,
   "id": "awful-belief",
   "metadata": {},
   "outputs": [
    {
     "name": "stdout",
     "output_type": "stream",
     "text": [
      "3007\n",
      "1290\n"
     ]
    }
   ],
   "source": [
    "# Extract Training and Validation Dataset\n",
    "X = data_df.drop([\"label\"], axis=1)\n",
    "y = data_df[\"label\"]\n",
    "\n",
    "X_train, X_validation, y_train, y_validation = train_test_split(X, y, test_size=0.3,random_state=100)\n",
    "print(len(X_train))\n",
    "print(len(X_validation))"
   ]
  },
  {
   "cell_type": "code",
   "execution_count": 19,
   "id": "gross-arnold",
   "metadata": {},
   "outputs": [
    {
     "name": "stdout",
     "output_type": "stream",
     "text": [
      "Fitting 5 folds for each of 20 candidates, totalling 100 fits\n"
     ]
    },
    {
     "data": {
      "text/plain": [
       "GridSearchCV(cv=5, estimator=SVC(random_state=100),\n",
       "             param_grid=[{'C': [0.1, 0.3, 0.5, 0.7], 'gamma': [1, 3, 5, 9, 11],\n",
       "                          'kernel': ['rbf']}],\n",
       "             scoring='accuracy', verbose=1)"
      ]
     },
     "execution_count": 19,
     "metadata": {},
     "output_type": "execute_result"
    }
   ],
   "source": [
    "clf_model_svm = GridSearchCV(SVC(random_state=100),\n",
    "                                      tuned_parameters,\n",
    "                                      cv=5,\n",
    "                                      scoring=scoring_parameter,\n",
    "                                      verbose=1)\n",
    "clf_model_svm.fit(X_train.values, y_train.values)"
   ]
  },
  {
   "cell_type": "code",
   "execution_count": 20,
   "id": "embedded-manitoba",
   "metadata": {},
   "outputs": [
    {
     "data": {
      "text/plain": [
       "SVC(C=0.3, gamma=1, random_state=100)"
      ]
     },
     "execution_count": 20,
     "metadata": {},
     "output_type": "execute_result"
    }
   ],
   "source": [
    "clf_model_svm.best_estimator_"
   ]
  },
  {
   "cell_type": "code",
   "execution_count": 21,
   "id": "acoustic-cholesterol",
   "metadata": {},
   "outputs": [
    {
     "data": {
      "text/plain": [
       "{'C': 0.3, 'gamma': 1, 'kernel': 'rbf'}"
      ]
     },
     "execution_count": 21,
     "metadata": {},
     "output_type": "execute_result"
    }
   ],
   "source": [
    "clf_model_svm.best_params_"
   ]
  },
  {
   "cell_type": "code",
   "execution_count": 22,
   "id": "partial-sheffield",
   "metadata": {},
   "outputs": [
    {
     "name": "stdout",
     "output_type": "stream",
     "text": [
      "validation accuracy: 0.6124031007751938\n"
     ]
    }
   ],
   "source": [
    "predict_y_validation = clf_model_svm.predict(X_validation.values)\n",
    "#predict_y_validation_prob = model.predict_proba(X_validation)\n",
    "accuracy_score_results = accuracy_score(y_validation.values, predict_y_validation)\n",
    "print(\"validation accuracy:\", accuracy_score_results)"
   ]
  },
  {
   "cell_type": "code",
   "execution_count": 23,
   "id": "fuzzy-texture",
   "metadata": {},
   "outputs": [
    {
     "data": {
      "image/png": "[encoded data removed]",
      "text/plain": [
       "<Figure size 432x288 with 2 Axes>"
      ]
     },
     "metadata": {
      "needs_background": "light"
     },
     "output_type": "display_data"
    },
    {
     "name": "stdout",
     "output_type": "stream",
     "text": [
      "True Positive = 574\n",
      "False Positive = 311\n",
      "False Negative = 189\n",
      "True Negative = 216\n",
      "Recall = 75.0\n",
      "Precision = 65.0\n",
      "              precision    recall  f1-score   support\n",
      "\n",
      "       False       0.65      0.75      0.70       763\n",
      "        True       0.53      0.41      0.46       527\n",
      "\n",
      "    accuracy                           0.61      1290\n",
      "   macro avg       0.59      0.58      0.58      1290\n",
      "weighted avg       0.60      0.61      0.60      1290\n",
      "\n"
     ]
    }
   ],
   "source": [
    "#########################################\n",
    "### Display Confusion Matrix\n",
    "ConfusionMatrixDisplay.from_predictions(y_validation.values, predict_y_validation, cmap='Blues')\n",
    "plt.title(\"\"\"Confusion Matrix for SVM: Accuracy {:.4}\"\"\".format(accuracy_score_results),color='black')\n",
    "plt.show()\n",
    "\n",
    "confusion_matrix_metric = confusion_matrix(y_validation.values, predict_y_validation)\n",
    "TP = confusion_matrix_metric[0][0]\n",
    "FP = confusion_matrix_metric[1][0]\n",
    "FN = confusion_matrix_metric[0][1]\n",
    "TN = confusion_matrix_metric[1][1]\n",
    "\n",
    "print('True Positive = {}'.format(TP))\n",
    "print('False Positive = {}'.format(FP))\n",
    "print('False Negative = {}'.format(FN))\n",
    "print('True Negative = {}'.format(TN))\n",
    "print('Recall = {}'.format(100*round(TP/(TP+FN),2)))\n",
    "print('Precision = {}'.format(100*round(TP/(TP+FP),2)))\n",
    "\n",
    "print(classification_report(y_validation.values, predict_y_validation))"
   ]
  },
  {
   "cell_type": "code",
   "execution_count": null,
   "id": "interior-converter",
   "metadata": {},
   "outputs": [],
   "source": []
  },
  {
   "cell_type": "markdown",
   "id": "familiar-offer",
   "metadata": {},
   "source": [
    "### "
   ]
  }
 ],
 "metadata": {
  "kernelspec": {
   "display_name": "Python 3 (ipykernel)",
   "language": "python",
   "name": "python3"
  },
  "language_info": {
   "codemirror_mode": {
    "name": "ipython",
    "version": 3
   },
   "file_extension": ".py",
   "mimetype": "text/x-python",
   "name": "python",
   "nbconvert_exporter": "python",
   "pygments_lexer": "ipython3",
   "version": "3.9.7"
  }
 },
 "nbformat": 4,
 "nbformat_minor": 5
}
