{
 "cells": [
  {
   "cell_type": "code",
   "execution_count": 1,
   "id": "solid-collection",
   "metadata": {},
   "outputs": [],
   "source": [
    "from datetime import datetime\n",
    "import pandas as pd\n",
    "pd.set_option('display.max_columns', None)\n",
    "from sklearn import metrics\n",
    "import sklearn\n",
    "from sklearn.model_selection import cross_val_score\n",
    "from sklearn.model_selection import train_test_split\n",
    "from sklearn.metrics import accuracy_score\n",
    "from sklearn.model_selection import GridSearchCV\n",
    "from sklearn.metrics import confusion_matrix, ConfusionMatrixDisplay\n",
    "import matplotlib.pyplot as plt\n",
    "from sklearn.neighbors import KNeighborsClassifier\n",
    "from sklearn.metrics import classification_report"
   ]
  },
  {
   "cell_type": "markdown",
   "id": "passive-completion",
   "metadata": {},
   "source": [
    "# Fill in Parameters here\n",
    "#### Reminder to set the radius before running the code\n",
    "#### Note: The radius here needs to match the radius set in the \"2_data_processing_data_visualization\" notebook"
   ]
  },
  {
   "cell_type": "code",
   "execution_count": 2,
   "id": "pursuant-server",
   "metadata": {},
   "outputs": [],
   "source": [
    "radius = 200 # <== Set Radius before running \n",
    "tuned_parameters = [{'n_neighbors': list(range(2,30,2)),\n",
    "                    \"weights\":['uniform'],\n",
    "                    'p' : [2]}]\n",
    "scoring_parameter = \"accuracy\""
   ]
  },
  {
   "cell_type": "markdown",
   "id": "buried-performance",
   "metadata": {},
   "source": [
    "# Extract Data"
   ]
  },
  {
   "cell_type": "code",
   "execution_count": 3,
   "id": "removed-location",
   "metadata": {},
   "outputs": [
    {
     "data": {
      "text/html": [
       "<div>\n",
       "<style scoped>\n",
       "    .dataframe tbody tr th:only-of-type {\n",
       "        vertical-align: middle;\n",
       "    }\n",
       "\n",
       "    .dataframe tbody tr th {\n",
       "        vertical-align: top;\n",
       "    }\n",
       "\n",
       "    .dataframe thead th {\n",
       "        text-align: right;\n",
       "    }\n",
       "</style>\n",
       "<table border=\"1\" class=\"dataframe\">\n",
       "  <thead>\n",
       "    <tr style=\"text-align: right;\">\n",
       "      <th></th>\n",
       "      <th>time</th>\n",
       "      <th>latitude</th>\n",
       "      <th>longitude</th>\n",
       "      <th>depth</th>\n",
       "      <th>mag</th>\n",
       "      <th>Nearest City</th>\n",
       "      <th>Distance</th>\n",
       "      <th>label</th>\n",
       "    </tr>\n",
       "  </thead>\n",
       "  <tbody>\n",
       "    <tr>\n",
       "      <th>0</th>\n",
       "      <td>2022-04-18</td>\n",
       "      <td>36.9462</td>\n",
       "      <td>140.3737</td>\n",
       "      <td>94.06</td>\n",
       "      <td>5.3</td>\n",
       "      <td>Tokyo</td>\n",
       "      <td>152.519581</td>\n",
       "      <td>True</td>\n",
       "    </tr>\n",
       "    <tr>\n",
       "      <th>1</th>\n",
       "      <td>2022-04-18</td>\n",
       "      <td>29.7594</td>\n",
       "      <td>142.1689</td>\n",
       "      <td>10.00</td>\n",
       "      <td>4.9</td>\n",
       "      <td>&gt;200 KM of Nearest City</td>\n",
       "      <td>698.847508</td>\n",
       "      <td>True</td>\n",
       "    </tr>\n",
       "    <tr>\n",
       "      <th>2</th>\n",
       "      <td>2022-04-17</td>\n",
       "      <td>37.7504</td>\n",
       "      <td>141.7200</td>\n",
       "      <td>55.40</td>\n",
       "      <td>4.5</td>\n",
       "      <td>Sendai</td>\n",
       "      <td>94.259210</td>\n",
       "      <td>False</td>\n",
       "    </tr>\n",
       "    <tr>\n",
       "      <th>3</th>\n",
       "      <td>2022-04-17</td>\n",
       "      <td>31.1878</td>\n",
       "      <td>142.4014</td>\n",
       "      <td>10.00</td>\n",
       "      <td>4.5</td>\n",
       "      <td>&gt;200 KM of Nearest City</td>\n",
       "      <td>560.090362</td>\n",
       "      <td>False</td>\n",
       "    </tr>\n",
       "    <tr>\n",
       "      <th>4</th>\n",
       "      <td>2022-04-17</td>\n",
       "      <td>37.0863</td>\n",
       "      <td>142.1903</td>\n",
       "      <td>30.46</td>\n",
       "      <td>4.4</td>\n",
       "      <td>Sendai</td>\n",
       "      <td>175.485563</td>\n",
       "      <td>False</td>\n",
       "    </tr>\n",
       "  </tbody>\n",
       "</table>\n",
       "</div>"
      ],
      "text/plain": [
       "         time  latitude  longitude  depth  mag             Nearest City  \\\n",
       "0  2022-04-18   36.9462   140.3737  94.06  5.3                    Tokyo   \n",
       "1  2022-04-18   29.7594   142.1689  10.00  4.9  >200 KM of Nearest City   \n",
       "2  2022-04-17   37.7504   141.7200  55.40  4.5                   Sendai   \n",
       "3  2022-04-17   31.1878   142.4014  10.00  4.5  >200 KM of Nearest City   \n",
       "4  2022-04-17   37.0863   142.1903  30.46  4.4                   Sendai   \n",
       "\n",
       "     Distance  label  \n",
       "0  152.519581   True  \n",
       "1  698.847508   True  \n",
       "2   94.259210  False  \n",
       "3  560.090362  False  \n",
       "4  175.485563  False  "
      ]
     },
     "execution_count": 3,
     "metadata": {},
     "output_type": "execute_result"
    }
   ],
   "source": [
    "### Extract \n",
    "data_df_extract = pd.read_csv(\"data_transformed.csv\")\n",
    "data_df_original = data_df_extract.copy()\n",
    "data_df_original.head()"
   ]
  },
  {
   "cell_type": "markdown",
   "id": "forty-sense",
   "metadata": {},
   "source": [
    "# Train and Predict the Model and output Results for all the City overall"
   ]
  },
  {
   "cell_type": "code",
   "execution_count": 4,
   "id": "apparent-dinner",
   "metadata": {
    "scrolled": false
   },
   "outputs": [
    {
     "name": "stdout",
     "output_type": "stream",
     "text": [
      "Fitting 5 folds for each of 14 candidates, totalling 70 fits\n",
      "KNeighborsClassifier(n_neighbors=28)\n",
      "{'n_neighbors': 28, 'p': 2, 'weights': 'uniform'}\n"
     ]
    },
    {
     "data": {
      "image/png": "[encoded data removed]",
      "text/plain": [
       "<Figure size 432x288 with 2 Axes>"
      ]
     },
     "metadata": {
      "needs_background": "light"
     },
     "output_type": "display_data"
    },
    {
     "name": "stdout",
     "output_type": "stream",
     "text": [
      "validation accuracy: 0.6050670640834576\n",
      "True Positive = 762\n",
      "False Positive = 522\n",
      "False Negative = 803\n",
      "True Negative = 1268\n",
      "Recall = 49.0\n",
      "Precision = 59.0\n"
     ]
    }
   ],
   "source": [
    "# Extract only the datapoints that are within a radius of any of the main cities\n",
    "data_df = data_df_original.drop(data_df_original[data_df_original[\"Nearest City\"]==f\">{radius} KM of Nearest City\"].index)\n",
    "data_df.reset_index(drop=True, inplace=True)\n",
    "\n",
    "# Extract key attributes for training and predicting\n",
    "data_df = data_df.drop(columns = ['time',\"Nearest City\",\"mag\",\"Distance\"] )\n",
    "\n",
    "# Extract Training and Testing Dataset\n",
    "X = data_df.drop([\"label\"], axis=1)\n",
    "y = data_df[\"label\"]\n",
    "X_train, X_test, y_train, y_test = train_test_split(X, y, test_size=0.3,random_state=100)\n",
    "\n",
    "# Train the Model\n",
    "clf_model_knn = GridSearchCV(KNeighborsClassifier(),\n",
    "                                      tuned_parameters,\n",
    "                                      cv=5,\n",
    "                                      scoring=scoring_parameter,\n",
    "                                      verbose=1)\n",
    "clf_model_knn.fit(X_train.values, y_train.values)\n",
    "\n",
    "# Validate with Testing dataset\n",
    "predict_y_test = clf_model_knn.predict(X_test.values)\n",
    "accuracy_score_results = accuracy_score(y_test.values, predict_y_test)\n",
    "\n",
    "\n",
    "#########################################\n",
    "### Display Confusion Matrix\n",
    "print(clf_model_knn.best_estimator_)\n",
    "print(clf_model_knn.best_params_)\n",
    "ConfusionMatrixDisplay.from_predictions(y_test.values, predict_y_test, cmap='Oranges')\n",
    "plt.title(\"\"\"Confusion Matrix for KNN (Radius: {} KM): Accuracy {:.4}\"\"\".format(radius, accuracy_score_results),color='black')\n",
    "plt.show()\n",
    "\n",
    "TN, FP, FN, TP = confusion_matrix(y_test.values, predict_y_test).ravel()\n",
    "\n",
    "print(\"validation accuracy:\", accuracy_score_results)\n",
    "print('True Positive = {}'.format(TP))\n",
    "print('False Positive = {}'.format(FP))\n",
    "print('False Negative = {}'.format(FN))\n",
    "print('True Negative = {}'.format(TN))\n",
    "print('Recall = {}'.format(100*round(TP/(TP+FN),2)))\n",
    "print('Precision = {}'.format(100*round(TP/(TP+FP),2)))"
   ]
  },
  {
   "cell_type": "markdown",
   "id": "dominant-italy",
   "metadata": {},
   "source": [
    "# Print the ROC Curve Plot"
   ]
  },
  {
   "cell_type": "code",
   "execution_count": 5,
   "id": "swedish-monitor",
   "metadata": {},
   "outputs": [
    {
     "name": "stderr",
     "output_type": "stream",
     "text": [
      "c:\\users\\emily\\appdata\\local\\programs\\python\\python39\\lib\\site-packages\\sklearn\\utils\\deprecation.py:87: FutureWarning: Function plot_roc_curve is deprecated; Function `plot_roc_curve` is deprecated in 1.0 and will be removed in 1.2. Use one of the class methods: RocCurveDisplay.from_predictions or RocCurveDisplay.from_estimator.\n",
      "  warnings.warn(msg, category=FutureWarning)\n"
     ]
    },
    {
     "data": {
      "text/plain": [
       "<sklearn.metrics._plot.roc_curve.RocCurveDisplay at 0x21834acfd30>"
      ]
     },
     "execution_count": 5,
     "metadata": {},
     "output_type": "execute_result"
    },
    {
     "data": {
      "image/png": "[encoded data removed]",
      "text/plain": [
       "<Figure size 432x288 with 1 Axes>"
      ]
     },
     "metadata": {
      "needs_background": "light"
     },
     "output_type": "display_data"
    }
   ],
   "source": [
    "metrics.plot_roc_curve(clf_model_knn, X_test.values, y_test.values) "
   ]
  },
  {
   "cell_type": "markdown",
   "id": "smoking-makeup",
   "metadata": {},
   "source": [
    "# Print the Accuracy vs K Value Plot"
   ]
  },
  {
   "cell_type": "code",
   "execution_count": 6,
   "id": "dietary-party",
   "metadata": {},
   "outputs": [],
   "source": [
    "# Extract the Dataset again\n",
    "data_df_extract = pd.read_csv(\"data_transformed.csv\")\n",
    "data_df_plot_curve = data_df_extract.copy()"
   ]
  },
  {
   "cell_type": "code",
   "execution_count": 7,
   "id": "mobile-things",
   "metadata": {},
   "outputs": [],
   "source": [
    "# Extract only the datapoints that are within a radius of any of the main cities\n",
    "data_df = data_df_plot_curve.drop(data_df_plot_curve[data_df_plot_curve[\"Nearest City\"]==f\">{radius} KM of Nearest City\"].index)\n",
    "data_df.reset_index(drop=True, inplace=True)\n",
    "\n",
    "# Extract key attributes for training and predicting\n",
    "data_df = data_df.drop(columns = ['time',\"Nearest City\",\"mag\",\"Distance\"] )\n",
    "\n",
    "# Extract Training and Testing Dataset\n",
    "X = data_df.drop([\"label\"], axis=1)\n",
    "y = data_df[\"label\"]\n",
    "X_train, X_test, y_train, y_test = train_test_split(X, y, test_size=0.3,random_state=100)\n",
    "\n",
    "# make a list of k values\n",
    "k_value_list = list(range(2,30,2))\n",
    "\n",
    "accuracy_score_list = []\n",
    "recall_list = []\n",
    "precision_list = []\n",
    "for k_value in k_value_list:\n",
    "    # Train Model \n",
    "    clf_model_knn_plot = KNeighborsClassifier(n_neighbors=k_value,weights = \"uniform\", p=1)\n",
    "    clf_model_knn_plot.fit(X_train.values, y_train.values)\n",
    "    \n",
    "    # Predict using testing dataset\n",
    "    predict_y_test = clf_model_knn_plot.predict(X_test.values)\n",
    "    \n",
    "    # extract the metrics results and store in list\n",
    "    accuracy_score_results = accuracy_score(y_test.values, predict_y_test)\n",
    "    TN, FP, FN, TP = confusion_matrix(y_test.values, predict_y_test).ravel()\n",
    "    recall = 100*round(TP/(TP+FN),2)\n",
    "    precision = 100*round(TP/(TP+FP),2)\n",
    "    # store in list\n",
    "    accuracy_score_list.append(accuracy_score_results)\n",
    "    recall_list.append(recall)\n",
    "    precision_list.append(precision)\n",
    "\n",
    "# Convert list into dataframe for plotting\n",
    "data_metric = {\"k\":k_value_list, \"recall\":recall_list, \"precision\":precision_list, \"accuracy\":accuracy_score_list}\n",
    "df_metric = pd.DataFrame(data_metric)"
   ]
  },
  {
   "cell_type": "code",
   "execution_count": 8,
   "id": "threatened-package",
   "metadata": {},
   "outputs": [
    {
     "data": {
      "image/png": "[encoded data removed]",
      "text/plain": [
       "<Figure size 432x288 with 1 Axes>"
      ]
     },
     "metadata": {
      "needs_background": "light"
     },
     "output_type": "display_data"
    }
   ],
   "source": [
    "# Plot the Accuracy vs K value\n",
    "df_metric.plot(kind='line',x='k',y='accuracy',color='red',\n",
    "               title=\"Testing Accuracy vs k value\",xlabel=\"k value\", ylabel=\"accuracy\")\n",
    "plt.show()"
   ]
  },
  {
   "cell_type": "code",
   "execution_count": null,
   "id": "understanding-crystal",
   "metadata": {},
   "outputs": [],
   "source": []
  }
 ],
 "metadata": {
  "kernelspec": {
   "display_name": "Python 3 (ipykernel)",
   "language": "python",
   "name": "python3"
  },
  "language_info": {
   "codemirror_mode": {
    "name": "ipython",
    "version": 3
   },
   "file_extension": ".py",
   "mimetype": "text/x-python",
   "name": "python",
   "nbconvert_exporter": "python",
   "pygments_lexer": "ipython3",
   "version": "3.9.7"
  }
 },
 "nbformat": 4,
 "nbformat_minor": 5
}
